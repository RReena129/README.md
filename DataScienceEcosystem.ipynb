{
 "cells": [
  {
   "cell_type": "markdown",
   "id": "e78d2e6a-6894-4e7a-9bfb-e929c48b6424",
   "metadata": {},
   "source": [
    "# Data Science Tools and Ecosystem"
   ]
  },
  {
   "cell_type": "markdown",
   "id": "84cf72f5-f04e-47ce-aca4-8a88a2aed92d",
   "metadata": {},
   "source": [
    "In this notebook, Data Science Tools and Ecosystem are summarized"
   ]
  },
  {
   "cell_type": "markdown",
   "id": "7d0792aa-c1d6-459b-94c7-c2590abce218",
   "metadata": {},
   "source": [
    "**Objectives:** \n",
    "* Popular languages used\n",
    "* Commonly used libraries\n",
    "* Basic arithmetic"
   ]
  },
  {
   "cell_type": "markdown",
   "id": "310cabb0-1eee-422a-9692-a089c5c51508",
   "metadata": {},
   "source": [
    "Some of the popular languages that Data Scientists use are: \n",
    "\n",
    "1. SQL\n",
    "2. Java\n",
    "3. R\n",
    "4. Python"
   ]
  },
  {
   "cell_type": "markdown",
   "id": "2d70f0c3-9ecb-4359-b514-7a2ba0b76c56",
   "metadata": {},
   "source": [
    "Some of the commonly used libraries used by Data Scientists include: \n",
    "\n",
    "1. TensorFlow\n",
    "2. NumPy\n",
    "3. Pandas\n",
    "4. PyTorch"
   ]
  },
  {
   "cell_type": "markdown",
   "id": "d0007e5e-1f66-489e-abb4-14f4d82d7e19",
   "metadata": {},
   "source": [
    "|Data Science Tools|\n",
    "| -------------------|\n",
    "| GitLab |\n",
    "| Python |\n",
    "| Linux |"
   ]
  },
  {
   "cell_type": "markdown",
   "id": "18980d4c-f74a-4322-9fb4-84231d305830",
   "metadata": {},
   "source": [
    "### Below are a few examples of evaluating arithmetic expressions in Python"
   ]
  },
  {
   "cell_type": "code",
   "execution_count": 11,
   "id": "73cc25e5-d2aa-4e5f-990c-13a319e47882",
   "metadata": {},
   "outputs": [
    {
     "data": {
      "text/plain": [
       "17"
      ]
     },
     "execution_count": 11,
     "metadata": {},
     "output_type": "execute_result"
    }
   ],
   "source": [
    "# This is a simple arithmetic expressions to multiply then add integers\n",
    "(3*4)+5"
   ]
  },
  {
   "cell_type": "code",
   "execution_count": 12,
   "id": "5d3b31fa-f1ec-4803-ae8e-cdeee9d4e5de",
   "metadata": {},
   "outputs": [
    {
     "data": {
      "text/plain": [
       "3.3333333333333335"
      ]
     },
     "execution_count": 12,
     "metadata": {},
     "output_type": "execute_result"
    }
   ],
   "source": [
    "# This will convert 200 minutes to hours by dividing by 60\n",
    "200/60"
   ]
  },
  {
   "cell_type": "markdown",
   "id": "dd0c4191-c66e-4c1f-820b-3187cbe999d0",
   "metadata": {},
   "source": [
    "## Author\n",
    "Reena Cegielski"
   ]
  },
  {
   "cell_type": "code",
   "execution_count": null,
   "id": "b82abd96-ab40-4ecc-a666-f06a66c07bcd",
   "metadata": {},
   "outputs": [],
   "source": []
  }
 ],
 "metadata": {
  "kernelspec": {
   "display_name": "Python 3 (ipykernel)",
   "language": "python",
   "name": "python3"
  },
  "language_info": {
   "codemirror_mode": {
    "name": "ipython",
    "version": 3
   },
   "file_extension": ".py",
   "mimetype": "text/x-python",
   "name": "python",
   "nbconvert_exporter": "python",
   "pygments_lexer": "ipython3",
   "version": "3.11.7"
  }
 },
 "nbformat": 4,
 "nbformat_minor": 5
}
